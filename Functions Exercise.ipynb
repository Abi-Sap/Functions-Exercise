{
 "cells": [
  {
   "cell_type": "markdown",
   "id": "bd10bcf1",
   "metadata": {},
   "source": [
    "## Exercise"
   ]
  },
  {
   "cell_type": "markdown",
   "id": "ee78a364",
   "metadata": {},
   "source": [
    "### 1. Use the map function to create a new list that doubles each number in the given list [1,2,3,4,5,6,7,8,9,10] and print the result list"
   ]
  },
  {
   "cell_type": "code",
   "execution_count": 3,
   "id": "1e9c8b47-6274-4d7c-b557-5667864ce69b",
   "metadata": {},
   "outputs": [
    {
     "name": "stdout",
     "output_type": "stream",
     "text": [
      "[2, 4, 6, 8, 10, 12, 14, 16, 18, 20]\n"
     ]
    }
   ],
   "source": [
    "num = [1,2,3,4,5,6,7,8,9,10]\n",
    "# Function to double a number\n",
    "def double_number(num):\n",
    "    return num * 2\n",
    "\n",
    "# Using map to apply the function to each element in the list\n",
    "doubled_list = list(map(double_number, num))\n",
    "print(doubled_list)"
   ]
  },
  {
   "cell_type": "markdown",
   "id": "759f2c2f",
   "metadata": {},
   "source": [
    "### 2. Use the filter function to create a new list that contains only the even numbers from the given list : [1,2,3,4,5,6,7,8,9,10]"
   ]
  },
  {
   "cell_type": "code",
   "execution_count": 4,
   "id": "6511f304-34c1-4934-93c0-1c5d2c880936",
   "metadata": {},
   "outputs": [
    {
     "name": "stdout",
     "output_type": "stream",
     "text": [
      "[2, 4, 6, 8, 10]\n"
     ]
    }
   ],
   "source": [
    "# Function to check if a number is even\n",
    "def is_even(num):\n",
    "    return num % 2 == 0\n",
    "\n",
    "# Using filter to apply the function to each element in the list\n",
    "even_numbers_list = list(filter(is_even, num))\n",
    "\n",
    "print(even_numbers_list)"
   ]
  },
  {
   "cell_type": "markdown",
   "id": "850ddf6c",
   "metadata": {},
   "source": [
    "### 3. Calculate the sum of squares of all the numbers in the list: [1,2,3,4,5,6,7,8,9,10]"
   ]
  },
  {
   "cell_type": "code",
   "execution_count": 5,
   "id": "d7a909dd-33d2-4509-a206-cdb49d979478",
   "metadata": {},
   "outputs": [
    {
     "name": "stdout",
     "output_type": "stream",
     "text": [
      "385\n"
     ]
    }
   ],
   "source": [
    "# Function to square a number\n",
    "def square_number(num):\n",
    "    return num ** 2\n",
    "\n",
    "# Using map to apply the function to each element in the list\n",
    "squared_numbers = map(square_number, num)\n",
    "\n",
    "# Calculating the sum of the squared numbers\n",
    "sum_of_squares = sum(squared_numbers)\n",
    "\n",
    "\n",
    "print(sum_of_squares)"
   ]
  },
  {
   "cell_type": "markdown",
   "id": "d3fe8374",
   "metadata": {},
   "source": [
    "### 4. Find and print the maximum number in the list : [1,2,3,4,5,6,7,8,9,10]"
   ]
  },
  {
   "cell_type": "code",
   "execution_count": 6,
   "id": "711d40bd-1494-459b-95d9-0c628e39da0c",
   "metadata": {},
   "outputs": [
    {
     "name": "stdout",
     "output_type": "stream",
     "text": [
      "10\n"
     ]
    }
   ],
   "source": [
    "# Finding the maximum number in the list\n",
    "max_number = max(num)\n",
    "\n",
    "print(max_number)"
   ]
  },
  {
   "cell_type": "markdown",
   "id": "2d46cc5e",
   "metadata": {},
   "source": [
    "### 5. Find and print the minimum number in the list : [1,2,3,4,5,6,7,8,9,10]"
   ]
  },
  {
   "cell_type": "code",
   "execution_count": 7,
   "id": "8b21826d-6f10-4f81-9bf8-206c715738c7",
   "metadata": {},
   "outputs": [
    {
     "name": "stdout",
     "output_type": "stream",
     "text": [
      "1\n"
     ]
    }
   ],
   "source": [
    "min_number = min(num)\n",
    "print(min_number)"
   ]
  },
  {
   "cell_type": "markdown",
   "id": "92bf8524",
   "metadata": {},
   "source": [
    "### 6.  Use the reduce function to find the product of all numbers in the list : [1,2,3,4,5,6,7,8,9,10]"
   ]
  },
  {
   "cell_type": "code",
   "execution_count": 8,
   "id": "616f7dd6-268a-4db0-85cc-1d127591b1f7",
   "metadata": {},
   "outputs": [
    {
     "name": "stdout",
     "output_type": "stream",
     "text": [
      "3628800\n"
     ]
    }
   ],
   "source": [
    "from functools import reduce\n",
    "\n",
    "# Function to multiply two numbers\n",
    "def multiply(x, y):\n",
    "    return x * y\n",
    "\n",
    "# Using reduce to find the product of all numbers in the list\n",
    "product = reduce(multiply, num)\n",
    "\n",
    "print(product)"
   ]
  },
  {
   "cell_type": "markdown",
   "id": "1abe24b5",
   "metadata": {},
   "source": [
    "### 7. Write a lambda expression that takes a number x as input and returns 'Positive' if x is greater than 0, \"Negative\" if x is less than 0,and 'Zero' if x equals 0"
   ]
  },
  {
   "cell_type": "code",
   "execution_count": 13,
   "id": "c49e27cd-9ed8-43ed-901a-d4299b7d8853",
   "metadata": {},
   "outputs": [
    {
     "name": "stdin",
     "output_type": "stream",
     "text": [
      "Enter a number:  6\n"
     ]
    },
    {
     "name": "stdout",
     "output_type": "stream",
     "text": [
      "Positive\n"
     ]
    }
   ],
   "source": [
    "# Lambda expression to classify the number\n",
    "classify_number =lambda x: 'Positive' if x > 0 else ('Negative' if x < 0 else 'Zero')\n",
    "\n",
    "\n",
    "x = float(input(\"Enter a number: \"))\n",
    "result = classify_number(x)\n",
    "print(result)"
   ]
  },
  {
   "cell_type": "markdown",
   "id": "50f01b58",
   "metadata": {},
   "source": [
    "### 8. Write a function called power that takes two numbers base and exponent as input and returns base raised to the power of exponent"
   ]
  },
  {
   "cell_type": "code",
   "execution_count": 15,
   "id": "512ad02b-3640-43bc-9c67-da170f4429f4",
   "metadata": {},
   "outputs": [
    {
     "name": "stdin",
     "output_type": "stream",
     "text": [
      "Enter the base number:  6\n",
      "Enter the exponent number:  2\n"
     ]
    },
    {
     "name": "stdout",
     "output_type": "stream",
     "text": [
      "Result: 36.0\n"
     ]
    }
   ],
   "source": [
    "def power(base, exponent):\n",
    "    return base ** exponent\n",
    "\n",
    "\n",
    "x = float(input(\"Enter the base number: \"))\n",
    "exponent = float(input(\"Enter the exponent number: \"))\n",
    "result = power(x, exponent)\n",
    "print(\"Result:\", result)"
   ]
  },
  {
   "cell_type": "markdown",
   "id": "52abc173",
   "metadata": {},
   "source": [
    "### 9. Write a function called triangle_area that takes the base and height of a triangle as input and returns its area.\n",
    " "
   ]
  },
  {
   "cell_type": "code",
   "execution_count": 20,
   "id": "5cbc1593-d9cd-48f4-a73c-d1f1f281d38c",
   "metadata": {},
   "outputs": [
    {
     "name": "stdout",
     "output_type": "stream",
     "text": [
      "20.0\n"
     ]
    }
   ],
   "source": [
    "def triangle_area(base, height):\n",
    "    return 0.5*base*height\n",
    "print(triangle_area(4,10))"
   ]
  },
  {
   "cell_type": "markdown",
   "id": "c7f9d95c",
   "metadata": {},
   "source": [
    "### 10.  Write a function called simple_interest that takes the principal amount, rate of interest and time period as input and returns the simple interest"
   ]
  },
  {
   "cell_type": "code",
   "execution_count": 30,
   "id": "b07ed680",
   "metadata": {},
   "outputs": [
    {
     "name": "stdout",
     "output_type": "stream",
     "text": [
      "9000\n"
     ]
    }
   ],
   "source": [
    "def simple_interest(principal,rate,time):\n",
    "    return principal*rate*time\n",
    "print(simple_interest(300,6,5))"
   ]
  }
 ],
 "metadata": {
  "kernelspec": {
   "display_name": "Python 3 (ipykernel)",
   "language": "python",
   "name": "python3"
  },
  "language_info": {
   "codemirror_mode": {
    "name": "ipython",
    "version": 3
   },
   "file_extension": ".py",
   "mimetype": "text/x-python",
   "name": "python",
   "nbconvert_exporter": "python",
   "pygments_lexer": "ipython3",
   "version": "3.11.7"
  }
 },
 "nbformat": 4,
 "nbformat_minor": 5
}
